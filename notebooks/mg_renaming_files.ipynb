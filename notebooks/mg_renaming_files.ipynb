{
 "cells": [
  {
   "cell_type": "markdown",
   "id": "e4ed3ec9",
   "metadata": {},
   "source": [
    "# Imports"
   ]
  },
  {
   "cell_type": "code",
   "execution_count": 1,
   "id": "d648c6a7",
   "metadata": {},
   "outputs": [],
   "source": [
    "import pandas as pd\n",
    "import numpy as np\n",
    "import requests\n",
    "from io import StringIO, BytesIO\n",
    "import os\n",
    "from shutil import copyfile\n",
    "import re\n",
    "import matplotlib.pyplot as plt\n",
    "import matplotlib.image as mpimg\n",
    "import PIL"
   ]
  },
  {
   "cell_type": "markdown",
   "id": "0c927bfb",
   "metadata": {},
   "source": [
    "# Load and rename images"
   ]
  },
  {
   "cell_type": "markdown",
   "id": "9c325048",
   "metadata": {},
   "source": [
    "We have a total of **139** images to train the model to count metal sheets of sizes thicknesses between .75 and 1.5 mm."
   ]
  },
  {
   "cell_type": "code",
   "execution_count": 23,
   "id": "0c8a99ce",
   "metadata": {},
   "outputs": [
    {
     "data": {
      "text/plain": [
       "138"
      ]
     },
     "execution_count": 23,
     "metadata": {},
     "output_type": "execute_result"
    }
   ],
   "source": [
    "# get all files\n",
    "fil = []\n",
    "\n",
    "for root, dirs, files in os.walk('../raw_data'):\n",
    "    s = re.search(r'\\d', root)\n",
    "    if s:\n",
    "        _app_dirs = [fil.append(os.path.join(root, file)) for file in files]\n",
    "\n",
    "len(fil)"
   ]
  },
  {
   "cell_type": "code",
   "execution_count": 35,
   "id": "8e89a983",
   "metadata": {},
   "outputs": [],
   "source": [
    "# categorize imgs in thickness\n",
    "search = r'\\d,\\d+m+'\n",
    "all_files = {}\n",
    "## detecting dirs and its files\n",
    "for file in fil:\n",
    "    # look for measurement in naming\n",
    "    s = re.search(search, file)\n",
    "    if s:\n",
    "        t = s.group().replace(\",\",\"_\")\n",
    "#         print(t)\n",
    "        if t in all_files:\n",
    "            all_files[t].append(file)\n",
    "        else:\n",
    "            all_files[t] = [file]"
   ]
  },
  {
   "cell_type": "code",
   "execution_count": 42,
   "id": "c464d013",
   "metadata": {
    "scrolled": true
   },
   "outputs": [
    {
     "name": "stdout",
     "output_type": "stream",
     "text": [
      "copied file to this directory: ../raw_data/renamed/1_00mm_0.jpg\n",
      "copied file to this directory: ../raw_data/renamed/1_00mm_1.jpg\n",
      "copied file to this directory: ../raw_data/renamed/1_00mm_2.jpg\n",
      "copied file to this directory: ../raw_data/renamed/1_00mm_3.jpg\n",
      "copied file to this directory: ../raw_data/renamed/1_00mm_4.jpg\n",
      "copied file to this directory: ../raw_data/renamed/1_00mm_5.jpg\n",
      "copied file to this directory: ../raw_data/renamed/1_00mm_6.jpg\n",
      "copied file to this directory: ../raw_data/renamed/1_00mm_7.jpg\n",
      "copied file to this directory: ../raw_data/renamed/1_00mm_8.jpg\n",
      "copied file to this directory: ../raw_data/renamed/1_00mm_9.jpg\n",
      "copied file to this directory: ../raw_data/renamed/1_00mm_10.jpg\n",
      "copied file to this directory: ../raw_data/renamed/1_00mm_11.jpg\n",
      "copied file to this directory: ../raw_data/renamed/1_00mm_12.jpg\n",
      "copied file to this directory: ../raw_data/renamed/1_00mm_13.jpg\n",
      "copied file to this directory: ../raw_data/renamed/1_00mm_14.jpg\n",
      "copied file to this directory: ../raw_data/renamed/1_00mm_15.jpg\n",
      "copied file to this directory: ../raw_data/renamed/1_00mm_16.jpg\n",
      "copied file to this directory: ../raw_data/renamed/1_00mm_17.jpg\n",
      "copied file to this directory: ../raw_data/renamed/1_00mm_18.jpg\n",
      "copied file to this directory: ../raw_data/renamed/1_00mm_19.jpg\n",
      "copied file to this directory: ../raw_data/renamed/1_00mm_20.jpg\n",
      "copied file to this directory: ../raw_data/renamed/1_00mm_21.jpg\n",
      "copied file to this directory: ../raw_data/renamed/1_00mm_22.jpg\n",
      "copied file to this directory: ../raw_data/renamed/1_00mm_23.jpg\n",
      "copied file to this directory: ../raw_data/renamed/1_00mm_24.jpg\n",
      "copied file to this directory: ../raw_data/renamed/1_00mm_25.jpg\n",
      "copied file to this directory: ../raw_data/renamed/1_00mm_26.jpg\n",
      "copied file to this directory: ../raw_data/renamed/1_00mm_27.jpg\n",
      "copied file to this directory: ../raw_data/renamed/1_00mm_28.jpg\n",
      "copied file to this directory: ../raw_data/renamed/1_00mm_29.jpg\n",
      "copied file to this directory: ../raw_data/renamed/1_00mm_30.jpg\n",
      "copied file to this directory: ../raw_data/renamed/1_00mm_31.jpg\n",
      "copied file to this directory: ../raw_data/renamed/1_00mm_32.jpg\n",
      "copied file to this directory: ../raw_data/renamed/1_00mm_33.jpg\n",
      "copied file to this directory: ../raw_data/renamed/1_00mm_34.jpg\n",
      "copied file to this directory: ../raw_data/renamed/1_00mm_35.jpg\n",
      "copied file to this directory: ../raw_data/renamed/1_00mm_36.jpg\n",
      "copied file to this directory: ../raw_data/renamed/1_00mm_37.jpg\n",
      "copied file to this directory: ../raw_data/renamed/1_00mm_38.jpg\n",
      "copied file to this directory: ../raw_data/renamed/1_00mm_39.jpg\n",
      "copied file to this directory: ../raw_data/renamed/1_00mm_40.jpg\n",
      "copied file to this directory: ../raw_data/renamed/1_00mm_41.jpg\n",
      "copied file to this directory: ../raw_data/renamed/1_00mm_42.jpg\n",
      "copied file to this directory: ../raw_data/renamed/1_00mm_43.jpg\n",
      "copied file to this directory: ../raw_data/renamed/1_00mm_44.jpg\n",
      "copied file to this directory: ../raw_data/renamed/1_00mm_45.jpg\n",
      "copied file to this directory: ../raw_data/renamed/1_00mm_46.jpg\n",
      "copied file to this directory: ../raw_data/renamed/1_00mm_47.jpg\n",
      "copied file to this directory: ../raw_data/renamed/1_00mm_48.jpg\n",
      "copied file to this directory: ../raw_data/renamed/1_00mm_49.jpg\n",
      "copied file to this directory: ../raw_data/renamed/1_00mm_50.jpg\n",
      "copied file to this directory: ../raw_data/renamed/1_00mm_51.jpg\n",
      "copied file to this directory: ../raw_data/renamed/1_00mm_52.jpg\n",
      "copied file to this directory: ../raw_data/renamed/1_00mm_53.jpg\n",
      "copied file to this directory: ../raw_data/renamed/1_00mm_54.jpg\n",
      "copied file to this directory: ../raw_data/renamed/1_00mm_55.jpg\n",
      "copied file to this directory: ../raw_data/renamed/1_00mm_56.jpg\n",
      "copied file to this directory: ../raw_data/renamed/1_00mm_57.jpg\n",
      "copied file to this directory: ../raw_data/renamed/1_00mm_58.jpg\n",
      "copied file to this directory: ../raw_data/renamed/1_00mm_59.jpg\n",
      "copied file to this directory: ../raw_data/renamed/1_00mm_60.jpg\n",
      "copied file to this directory: ../raw_data/renamed/1_00mm_61.jpg\n",
      "copied file to this directory: ../raw_data/renamed/1_0mm_0.jpg\n",
      "copied file to this directory: ../raw_data/renamed/1_0mm_1.jpg\n",
      "copied file to this directory: ../raw_data/renamed/1_0mm_2.jpg\n",
      "copied file to this directory: ../raw_data/renamed/1_0mm_3.jpg\n",
      "copied file to this directory: ../raw_data/renamed/1_0mm_4.jpg\n",
      "copied file to this directory: ../raw_data/renamed/1_0mm_5.jpg\n",
      "copied file to this directory: ../raw_data/renamed/1_0mm_6.jpg\n",
      "copied file to this directory: ../raw_data/renamed/1_5mm_0.jpg\n",
      "copied file to this directory: ../raw_data/renamed/1_5mm_1.jpg\n",
      "copied file to this directory: ../raw_data/renamed/1_5mm_2.jpg\n",
      "copied file to this directory: ../raw_data/renamed/1_5mm_3.jpg\n",
      "copied file to this directory: ../raw_data/renamed/1_5mm_4.jpg\n",
      "copied file to this directory: ../raw_data/renamed/1_5mm_5.jpg\n",
      "copied file to this directory: ../raw_data/renamed/1_5mm_6.jpg\n",
      "copied file to this directory: ../raw_data/renamed/1_5mm_7.jpg\n",
      "copied file to this directory: ../raw_data/renamed/1_5mm_8.jpg\n",
      "copied file to this directory: ../raw_data/renamed/1_5mm_9.jpg\n",
      "copied file to this directory: ../raw_data/renamed/1_5mm_10.jpg\n",
      "copied file to this directory: ../raw_data/renamed/1_5mm_11.jpg\n",
      "copied file to this directory: ../raw_data/renamed/1_5mm_12.jpg\n",
      "copied file to this directory: ../raw_data/renamed/1_5mm_13.jpg\n",
      "copied file to this directory: ../raw_data/renamed/1_5mm_14.jpg\n",
      "copied file to this directory: ../raw_data/renamed/1_5mm_15.jpg\n",
      "copied file to this directory: ../raw_data/renamed/1_5mm_16.jpg\n",
      "copied file to this directory: ../raw_data/renamed/1_5mm_17.jpg\n",
      "copied file to this directory: ../raw_data/renamed/1_5mm_18.jpg\n",
      "copied file to this directory: ../raw_data/renamed/1_5mm_19.jpg\n",
      "copied file to this directory: ../raw_data/renamed/1_5mm_20.jpg\n",
      "copied file to this directory: ../raw_data/renamed/1_5mm_21.jpg\n",
      "copied file to this directory: ../raw_data/renamed/1_5mm_22.jpg\n",
      "copied file to this directory: ../raw_data/renamed/1_5mm_23.jpg\n",
      "copied file to this directory: ../raw_data/renamed/1_5mm_24.jpg\n",
      "copied file to this directory: ../raw_data/renamed/1_5mm_25.jpg\n",
      "copied file to this directory: ../raw_data/renamed/1_5mm_26.jpg\n",
      "copied file to this directory: ../raw_data/renamed/1_5mm_27.jpg\n",
      "copied file to this directory: ../raw_data/renamed/1_5mm_28.jpg\n",
      "copied file to this directory: ../raw_data/renamed/1_5mm_29.jpg\n",
      "copied file to this directory: ../raw_data/renamed/1_5mm_30.jpg\n",
      "copied file to this directory: ../raw_data/renamed/1_5mm_31.jpg\n",
      "copied file to this directory: ../raw_data/renamed/1_5mm_32.jpg\n",
      "copied file to this directory: ../raw_data/renamed/1_5mm_33.jpg\n",
      "copied file to this directory: ../raw_data/renamed/1_5mm_34.jpg\n",
      "copied file to this directory: ../raw_data/renamed/1_5mm_35.jpg\n",
      "copied file to this directory: ../raw_data/renamed/1_5mm_36.jpg\n",
      "copied file to this directory: ../raw_data/renamed/1_5mm_37.jpg\n",
      "copied file to this directory: ../raw_data/renamed/1_5mm_38.jpg\n",
      "copied file to this directory: ../raw_data/renamed/1_5mm_39.jpg\n",
      "copied file to this directory: ../raw_data/renamed/1_5mm_40.jpg\n",
      "copied file to this directory: ../raw_data/renamed/1_5mm_41.jpg\n",
      "copied file to this directory: ../raw_data/renamed/1_5mm_42.jpg\n",
      "copied file to this directory: ../raw_data/renamed/1_5mm_43.jpg\n",
      "copied file to this directory: ../raw_data/renamed/1_5mm_44.jpg\n",
      "copied file to this directory: ../raw_data/renamed/1_5mm_45.jpg\n",
      "copied file to this directory: ../raw_data/renamed/1_5mm_46.jpg\n",
      "copied file to this directory: ../raw_data/renamed/1_5mm_47.jpg\n",
      "copied file to this directory: ../raw_data/renamed/1_5mm_48.jpg\n",
      "copied file to this directory: ../raw_data/renamed/1_5mm_49.jpg\n",
      "copied file to this directory: ../raw_data/renamed/1_5mm_50.jpg\n",
      "copied file to this directory: ../raw_data/renamed/1_5mm_51.jpg\n",
      "copied file to this directory: ../raw_data/renamed/1_5mm_52.jpg\n",
      "copied file to this directory: ../raw_data/renamed/1_5mm_53.jpg\n",
      "copied file to this directory: ../raw_data/renamed/1_5mm_54.jpg\n",
      "copied file to this directory: ../raw_data/renamed/0_75mm_0.jpg\n",
      "copied file to this directory: ../raw_data/renamed/0_75mm_1.jpg\n",
      "copied file to this directory: ../raw_data/renamed/0_75mm_2.jpg\n",
      "copied file to this directory: ../raw_data/renamed/0_75mm_3.jpg\n",
      "copied file to this directory: ../raw_data/renamed/0_75mm_4.jpg\n",
      "copied file to this directory: ../raw_data/renamed/0_75mm_5.jpg\n",
      "copied file to this directory: ../raw_data/renamed/0_75mm_6.jpg\n",
      "copied file to this directory: ../raw_data/renamed/1_2mm_0.jpg\n",
      "copied file to this directory: ../raw_data/renamed/1_2mm_1.jpg\n",
      "copied file to this directory: ../raw_data/renamed/1_2mm_2.jpg\n",
      "copied file to this directory: ../raw_data/renamed/1_2mm_3.jpg\n",
      "copied file to this directory: ../raw_data/renamed/1_2mm_4.jpg\n",
      "copied file to this directory: ../raw_data/renamed/1_2mm_5.jpg\n"
     ]
    },
    {
     "name": "stdout",
     "output_type": "stream",
     "text": [
      "copied file to this directory: ../raw_data/renamed/1_2mm_6.jpg\n"
     ]
    }
   ],
   "source": [
    "##############################################\n",
    "########## DONT RUN ##########################\n",
    "##############################################\n",
    "# copying all files to one dir\n",
    "# os.mkdir('../raw_data/renamed', error='ignore')\n",
    "path = '../raw_data/renamed/'\n",
    "for mm, imgs in all_files.items():\n",
    "    for c, img in enumerate(imgs):\n",
    "        filename = os.path.join(path, f'{mm}_{c}.jpg')\n",
    "        copyfile(img, filename)\n",
    "        print(f'copied file to this directory: {filename}')"
   ]
  },
  {
   "cell_type": "markdown",
   "id": "bf45e472",
   "metadata": {},
   "source": [
    "# Exploring the dataset"
   ]
  },
  {
   "cell_type": "markdown",
   "id": "1df9fbf5",
   "metadata": {},
   "source": [
    "The images show amateur photographs of metal sheet stacks on pallets in a warehouse during daylight conditions. The data provided contains metal sheets of sizes 0.75mm to 1.5mm. The sheets are either perforated or expanded. The perforated sheets lie horizontally on top of each other. The expanded metal forms a wavy profile when stacked."
   ]
  },
  {
   "cell_type": "markdown",
   "id": "d8d76451",
   "metadata": {},
   "source": [
    "## Examples"
   ]
  },
  {
   "cell_type": "code",
   "execution_count": 69,
   "id": "c2fb0509",
   "metadata": {},
   "outputs": [],
   "source": [
    "# listing all existing imgs\n",
    "imgs = [name for name in os.listdir(path)]\n",
    "imgcount = len(imgs)"
   ]
  },
  {
   "cell_type": "code",
   "execution_count": 70,
   "id": "3f8b9012",
   "metadata": {},
   "outputs": [
    {
     "ename": "FileNotFoundError",
     "evalue": "[Errno 2] No such file or directory: '1_00mm_28_80.jpg'",
     "output_type": "error",
     "traceback": [
      "\u001b[0;31m---------------------------------------------------------------------------\u001b[0m",
      "\u001b[0;31mFileNotFoundError\u001b[0m                         Traceback (most recent call last)",
      "\u001b[0;32m<ipython-input-70-3abdf6ca93f0>\u001b[0m in \u001b[0;36m<module>\u001b[0;34m\u001b[0m\n\u001b[1;32m      4\u001b[0m     \u001b[0mplt\u001b[0m\u001b[0;34m.\u001b[0m\u001b[0msubplot\u001b[0m\u001b[0;34m(\u001b[0m\u001b[0;36m5\u001b[0m\u001b[0;34m,\u001b[0m \u001b[0;36m3\u001b[0m\u001b[0;34m,\u001b[0m \u001b[0mi\u001b[0m\u001b[0;34m+\u001b[0m\u001b[0;36m1\u001b[0m\u001b[0;34m)\u001b[0m\u001b[0;34m\u001b[0m\u001b[0;34m\u001b[0m\u001b[0m\n\u001b[1;32m      5\u001b[0m     \u001b[0mplt\u001b[0m\u001b[0;34m.\u001b[0m\u001b[0mtitle\u001b[0m\u001b[0;34m(\u001b[0m\u001b[0;34mf'img_{i}'\u001b[0m\u001b[0;34m,\u001b[0m \u001b[0msize\u001b[0m\u001b[0;34m=\u001b[0m\u001b[0;36m12\u001b[0m\u001b[0;34m)\u001b[0m\u001b[0;34m\u001b[0m\u001b[0;34m\u001b[0m\u001b[0m\n\u001b[0;32m----> 6\u001b[0;31m     \u001b[0mplt\u001b[0m\u001b[0;34m.\u001b[0m\u001b[0mimshow\u001b[0m\u001b[0;34m(\u001b[0m\u001b[0mmpimg\u001b[0m\u001b[0;34m.\u001b[0m\u001b[0mimread\u001b[0m\u001b[0;34m(\u001b[0m\u001b[0mimgs\u001b[0m\u001b[0;34m[\u001b[0m\u001b[0mi\u001b[0m\u001b[0;34m]\u001b[0m\u001b[0;34m)\u001b[0m\u001b[0;34m)\u001b[0m\u001b[0;34m\u001b[0m\u001b[0;34m\u001b[0m\u001b[0m\n\u001b[0m\u001b[1;32m      7\u001b[0m     \u001b[0mplt\u001b[0m\u001b[0;34m.\u001b[0m\u001b[0mxticks\u001b[0m\u001b[0;34m(\u001b[0m\u001b[0;34m(\u001b[0m\u001b[0;34m)\u001b[0m\u001b[0;34m)\u001b[0m\u001b[0;34m\u001b[0m\u001b[0;34m\u001b[0m\u001b[0m\n\u001b[1;32m      8\u001b[0m     \u001b[0mplt\u001b[0m\u001b[0;34m.\u001b[0m\u001b[0myticks\u001b[0m\u001b[0;34m(\u001b[0m\u001b[0;34m(\u001b[0m\u001b[0;34m)\u001b[0m\u001b[0;34m)\u001b[0m\u001b[0;34m\u001b[0m\u001b[0;34m\u001b[0m\u001b[0m\n",
      "\u001b[0;32m~/.pyenv/versions/3.8.6/envs/lewagon/lib/python3.8/site-packages/matplotlib/image.py\u001b[0m in \u001b[0;36mimread\u001b[0;34m(fname, format)\u001b[0m\n\u001b[1;32m   1499\u001b[0m                     \u001b[0mresponse\u001b[0m \u001b[0;34m=\u001b[0m \u001b[0mio\u001b[0m\u001b[0;34m.\u001b[0m\u001b[0mBytesIO\u001b[0m\u001b[0;34m(\u001b[0m\u001b[0mresponse\u001b[0m\u001b[0;34m.\u001b[0m\u001b[0mread\u001b[0m\u001b[0;34m(\u001b[0m\u001b[0;34m)\u001b[0m\u001b[0;34m)\u001b[0m\u001b[0;34m\u001b[0m\u001b[0;34m\u001b[0m\u001b[0m\n\u001b[1;32m   1500\u001b[0m                 \u001b[0;32mreturn\u001b[0m \u001b[0mimread\u001b[0m\u001b[0;34m(\u001b[0m\u001b[0mresponse\u001b[0m\u001b[0;34m,\u001b[0m \u001b[0mformat\u001b[0m\u001b[0;34m=\u001b[0m\u001b[0mext\u001b[0m\u001b[0;34m)\u001b[0m\u001b[0;34m\u001b[0m\u001b[0;34m\u001b[0m\u001b[0m\n\u001b[0;32m-> 1501\u001b[0;31m     \u001b[0;32mwith\u001b[0m \u001b[0mimg_open\u001b[0m\u001b[0;34m(\u001b[0m\u001b[0mfname\u001b[0m\u001b[0;34m)\u001b[0m \u001b[0;32mas\u001b[0m \u001b[0mimage\u001b[0m\u001b[0;34m:\u001b[0m\u001b[0;34m\u001b[0m\u001b[0;34m\u001b[0m\u001b[0m\n\u001b[0m\u001b[1;32m   1502\u001b[0m         return (_pil_png_to_float_array(image)\n\u001b[1;32m   1503\u001b[0m                 \u001b[0;32mif\u001b[0m \u001b[0misinstance\u001b[0m\u001b[0;34m(\u001b[0m\u001b[0mimage\u001b[0m\u001b[0;34m,\u001b[0m \u001b[0mPIL\u001b[0m\u001b[0;34m.\u001b[0m\u001b[0mPngImagePlugin\u001b[0m\u001b[0;34m.\u001b[0m\u001b[0mPngImageFile\u001b[0m\u001b[0;34m)\u001b[0m \u001b[0;32melse\u001b[0m\u001b[0;34m\u001b[0m\u001b[0;34m\u001b[0m\u001b[0m\n",
      "\u001b[0;32m~/.pyenv/versions/3.8.6/envs/lewagon/lib/python3.8/site-packages/PIL/Image.py\u001b[0m in \u001b[0;36mopen\u001b[0;34m(fp, mode, formats)\u001b[0m\n\u001b[1;32m   2910\u001b[0m \u001b[0;34m\u001b[0m\u001b[0m\n\u001b[1;32m   2911\u001b[0m     \u001b[0;32mif\u001b[0m \u001b[0mfilename\u001b[0m\u001b[0;34m:\u001b[0m\u001b[0;34m\u001b[0m\u001b[0;34m\u001b[0m\u001b[0m\n\u001b[0;32m-> 2912\u001b[0;31m         \u001b[0mfp\u001b[0m \u001b[0;34m=\u001b[0m \u001b[0mbuiltins\u001b[0m\u001b[0;34m.\u001b[0m\u001b[0mopen\u001b[0m\u001b[0;34m(\u001b[0m\u001b[0mfilename\u001b[0m\u001b[0;34m,\u001b[0m \u001b[0;34m\"rb\"\u001b[0m\u001b[0;34m)\u001b[0m\u001b[0;34m\u001b[0m\u001b[0;34m\u001b[0m\u001b[0m\n\u001b[0m\u001b[1;32m   2913\u001b[0m         \u001b[0mexclusive_fp\u001b[0m \u001b[0;34m=\u001b[0m \u001b[0;32mTrue\u001b[0m\u001b[0;34m\u001b[0m\u001b[0;34m\u001b[0m\u001b[0m\n\u001b[1;32m   2914\u001b[0m \u001b[0;34m\u001b[0m\u001b[0m\n",
      "\u001b[0;31mFileNotFoundError\u001b[0m: [Errno 2] No such file or directory: '1_00mm_28_80.jpg'"
     ]
    },
    {
     "data": {
      "image/png": "[encoded data removed]",
      "text/plain": [
       "<Figure size 1440x1440 with 1 Axes>"
      ]
     },
     "metadata": {
      "needs_background": "light"
     },
     "output_type": "display_data"
    }
   ],
   "source": [
    "# showcasing some img examples\n",
    "fig = plt.figure(figsize=(20,20))\n",
    "for i in range(15):\n",
    "    plt.subplot(5, 3, i+1)\n",
    "    plt.title(f'img_{i}', size=12)\n",
    "    plt.imshow(mpimg.imread(imgs[i]))\n",
    "    plt.xticks(())\n",
    "    plt.yticks(())"
   ]
  },
  {
   "cell_type": "markdown",
   "id": "b42e4e92",
   "metadata": {},
   "source": [
    "## Image quality"
   ]
  },
  {
   "cell_type": "markdown",
   "id": "e19927c7",
   "metadata": {},
   "source": [
    "As visible, some of the images are not usable due to blurryness wrong angles. They would add too much noise to the model and will be manually sorted out of the data set. The optimal image should show the sheet stack from the side with enough light to detect the contrast between the sheets."
   ]
  },
  {
   "cell_type": "code",
   "execution_count": 66,
   "id": "1ee78fa1",
   "metadata": {},
   "outputs": [
    {
     "ename": "FileNotFoundError",
     "evalue": "[Errno 2] No such file or directory: '../raw_data/renamed/0_75mm_6.jpg'",
     "output_type": "error",
     "traceback": [
      "\u001b[0;31m---------------------------------------------------------------------------\u001b[0m",
      "\u001b[0;31mFileNotFoundError\u001b[0m                         Traceback (most recent call last)",
      "\u001b[0;32m<ipython-input-66-505e123b4103>\u001b[0m in \u001b[0;36m<module>\u001b[0;34m\u001b[0m\n\u001b[1;32m      2\u001b[0m \u001b[0msizes\u001b[0m \u001b[0;34m=\u001b[0m\u001b[0;34m[\u001b[0m\u001b[0;34m]\u001b[0m\u001b[0;34m\u001b[0m\u001b[0;34m\u001b[0m\u001b[0m\n\u001b[1;32m      3\u001b[0m \u001b[0;32mfor\u001b[0m \u001b[0mimg\u001b[0m \u001b[0;32min\u001b[0m \u001b[0mimgs\u001b[0m\u001b[0;34m:\u001b[0m\u001b[0;34m\u001b[0m\u001b[0;34m\u001b[0m\u001b[0m\n\u001b[0;32m----> 4\u001b[0;31m     \u001b[0mim\u001b[0m \u001b[0;34m=\u001b[0m \u001b[0mPIL\u001b[0m\u001b[0;34m.\u001b[0m\u001b[0mImage\u001b[0m\u001b[0;34m.\u001b[0m\u001b[0mopen\u001b[0m\u001b[0;34m(\u001b[0m\u001b[0mimg\u001b[0m\u001b[0;34m)\u001b[0m\u001b[0;34m\u001b[0m\u001b[0;34m\u001b[0m\u001b[0m\n\u001b[0m\u001b[1;32m      5\u001b[0m     \u001b[0msizes\u001b[0m\u001b[0;34m.\u001b[0m\u001b[0mappend\u001b[0m\u001b[0;34m(\u001b[0m\u001b[0mim\u001b[0m\u001b[0;34m.\u001b[0m\u001b[0msize\u001b[0m\u001b[0;34m)\u001b[0m\u001b[0;34m\u001b[0m\u001b[0;34m\u001b[0m\u001b[0m\n",
      "\u001b[0;32m~/.pyenv/versions/3.8.6/envs/lewagon/lib/python3.8/site-packages/PIL/Image.py\u001b[0m in \u001b[0;36mopen\u001b[0;34m(fp, mode, formats)\u001b[0m\n\u001b[1;32m   2910\u001b[0m \u001b[0;34m\u001b[0m\u001b[0m\n\u001b[1;32m   2911\u001b[0m     \u001b[0;32mif\u001b[0m \u001b[0mfilename\u001b[0m\u001b[0;34m:\u001b[0m\u001b[0;34m\u001b[0m\u001b[0;34m\u001b[0m\u001b[0m\n\u001b[0;32m-> 2912\u001b[0;31m         \u001b[0mfp\u001b[0m \u001b[0;34m=\u001b[0m \u001b[0mbuiltins\u001b[0m\u001b[0;34m.\u001b[0m\u001b[0mopen\u001b[0m\u001b[0;34m(\u001b[0m\u001b[0mfilename\u001b[0m\u001b[0;34m,\u001b[0m \u001b[0;34m\"rb\"\u001b[0m\u001b[0;34m)\u001b[0m\u001b[0;34m\u001b[0m\u001b[0;34m\u001b[0m\u001b[0m\n\u001b[0m\u001b[1;32m   2913\u001b[0m         \u001b[0mexclusive_fp\u001b[0m \u001b[0;34m=\u001b[0m \u001b[0;32mTrue\u001b[0m\u001b[0;34m\u001b[0m\u001b[0;34m\u001b[0m\u001b[0m\n\u001b[1;32m   2914\u001b[0m \u001b[0;34m\u001b[0m\u001b[0m\n",
      "\u001b[0;31mFileNotFoundError\u001b[0m: [Errno 2] No such file or directory: '../raw_data/renamed/0_75mm_6.jpg'"
     ]
    }
   ],
   "source": [
    "## find img resolutions\n",
    "sizes =[]\n",
    "for img in imgs:\n",
    "    im = PIL.Image.open(img)\n",
    "    sizes.append(im.size)"
   ]
  },
  {
   "cell_type": "code",
   "execution_count": null,
   "id": "c7af6f4a",
   "metadata": {},
   "outputs": [],
   "source": [
    "# all images have the same resolution\n",
    "print(f'The resolution of all images is: \\033[1m{sizes[0][0]}x{sizes[0][1]}px\\033[0m')"
   ]
  },
  {
   "cell_type": "markdown",
   "id": "3ab75812",
   "metadata": {},
   "source": [
    "**Note**<br>\n",
    "Further compressing and grayscaling will be assessed in the model tuning process."
   ]
  },
  {
   "cell_type": "code",
   "execution_count": 71,
   "id": "c9c1741f",
   "metadata": {},
   "outputs": [
    {
     "data": {
      "text/plain": [
       "0"
      ]
     },
     "execution_count": 71,
     "metadata": {},
     "output_type": "execute_result"
    }
   ],
   "source": [
    "len('')\n",
    "\n"
   ]
  },
  {
   "cell_type": "code",
   "execution_count": null,
   "id": "24dbe9d3",
   "metadata": {},
   "outputs": [],
   "source": []
  },
  {
   "cell_type": "markdown",
   "id": "f2ad2399",
   "metadata": {},
   "source": [
    "# Targeting images"
   ]
  },
  {
   "cell_type": "markdown",
   "id": "8f9a1399",
   "metadata": {},
   "source": [
    "Initially the sheets on each image have to be counted manually and then set as a target. The target count will be stored in the files name."
   ]
  },
  {
   "cell_type": "code",
   "execution_count": null,
   "id": "ca9cd30b",
   "metadata": {},
   "outputs": [],
   "source": []
  }
 ],
 "metadata": {
  "kernelspec": {
   "display_name": "Python 3",
   "language": "python",
   "name": "python3"
  },
  "language_info": {
   "codemirror_mode": {
    "name": "ipython",
    "version": 3
   },
   "file_extension": ".py",
   "mimetype": "text/x-python",
   "name": "python",
   "nbconvert_exporter": "python",
   "pygments_lexer": "ipython3",
   "version": "3.8.6"
  },
  "toc": {
   "base_numbering": 1,
   "nav_menu": {},
   "number_sections": true,
   "sideBar": true,
   "skip_h1_title": false,
   "title_cell": "Table of Contents",
   "title_sidebar": "Contents",
   "toc_cell": false,
   "toc_position": {},
   "toc_section_display": true,
   "toc_window_display": false
  }
 },
 "nbformat": 4,
 "nbformat_minor": 5
}
