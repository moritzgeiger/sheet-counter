{
 "cells": [
  {
   "cell_type": "markdown",
   "id": "e4ed3ec9",
   "metadata": {},
   "source": [
    "# Imports"
   ]
  },
  {
   "cell_type": "code",
   "execution_count": 30,
   "id": "d648c6a7",
   "metadata": {},
   "outputs": [],
   "source": [
    "import pandas as pd\n",
    "import numpy as np\n",
    "import requests\n",
    "from io import StringIO, BytesIO\n",
    "import os\n",
    "import shutil\n",
    "import re"
   ]
  },
  {
   "cell_type": "markdown",
   "id": "0c927bfb",
   "metadata": {},
   "source": [
    "# Load and sort images"
   ]
  },
  {
   "cell_type": "markdown",
   "id": "9c325048",
   "metadata": {},
   "source": [
    "We have a total of **139** images to train the model to count metal sheets of sizes thicknesses between .75 and 1.5 mm."
   ]
  },
  {
   "cell_type": "code",
   "execution_count": 35,
   "id": "8e89a983",
   "metadata": {},
   "outputs": [
    {
     "name": "stdout",
     "output_type": "stream",
     "text": [
      "1_00mm\n",
      "1_00mm\n",
      "1_00mm\n",
      "0_75mm\n",
      "1_00mm\n",
      "1_00mm\n",
      "1_00mm\n",
      "1_00mm\n",
      "1_00mm\n",
      "1_00mm\n"
     ]
    }
   ],
   "source": [
    "search = r'\\d,\\d{2}m+'\n",
    "all_files = {}\n",
    "for root, dirs, files in os.walk('../raw_data'):\n",
    "    s = re.search(search, root)\n",
    "    if s:\n",
    "        t = s.group().replace(\",\",\"_\")\n",
    "        print(t)\n",
    "        all_files[t] = []\n",
    "        for file in files:\n",
    "            all_files[t].append(os.path.join(root, file))"
   ]
  },
  {
   "cell_type": "code",
   "execution_count": 36,
   "id": "c464d013",
   "metadata": {},
   "outputs": [
    {
     "data": {
      "text/plain": [
       "{'1_00mm': ['../raw_data/16_DC04Am_1,00mm/20210409_125559.jpg',\n",
       "  '../raw_data/16_DC04Am_1,00mm/20210409_125605.jpg',\n",
       "  '../raw_data/16_DC04Am_1,00mm/20210409_125545.jpg',\n",
       "  '../raw_data/16_DC04Am_1,00mm/20210409_125552.jpg',\n",
       "  '../raw_data/16_DC04Am_1,00mm/20210409_125520.jpg',\n",
       "  '../raw_data/16_DC04Am_1,00mm/20210409_125536.jpg',\n",
       "  '../raw_data/16_DC04Am_1,00mm/20210409_125531.jpg'],\n",
       " '0_75mm': ['../raw_data/1_DC04_0,75mm/20210409_122244.jpg',\n",
       "  '../raw_data/1_DC04_0,75mm/20210409_122151.jpg',\n",
       "  '../raw_data/1_DC04_0,75mm/20210409_122238.jpg',\n",
       "  '../raw_data/1_DC04_0,75mm/20210409_122158.jpg',\n",
       "  '../raw_data/1_DC04_0,75mm/20210409_122203.jpg',\n",
       "  '../raw_data/1_DC04_0,75mm/20210409_122305.jpg',\n",
       "  '../raw_data/1_DC04_0,75mm/20210409_122314.jpg']}"
      ]
     },
     "execution_count": 36,
     "metadata": {},
     "output_type": "execute_result"
    }
   ],
   "source": [
    "all_files"
   ]
  },
  {
   "cell_type": "code",
   "execution_count": null,
   "id": "fa87fa66",
   "metadata": {},
   "outputs": [],
   "source": []
  },
  {
   "cell_type": "code",
   "execution_count": null,
   "id": "6acf09c3",
   "metadata": {},
   "outputs": [],
   "source": []
  },
  {
   "cell_type": "code",
   "execution_count": null,
   "id": "3f8b9012",
   "metadata": {},
   "outputs": [],
   "source": []
  },
  {
   "cell_type": "code",
   "execution_count": null,
   "id": "7f23002b",
   "metadata": {},
   "outputs": [],
   "source": []
  },
  {
   "cell_type": "code",
   "execution_count": null,
   "id": "6c99f9f2",
   "metadata": {},
   "outputs": [],
   "source": []
  },
  {
   "cell_type": "code",
   "execution_count": null,
   "id": "447e1118",
   "metadata": {},
   "outputs": [],
   "source": []
  },
  {
   "cell_type": "code",
   "execution_count": null,
   "id": "95caf53a",
   "metadata": {},
   "outputs": [],
   "source": []
  }
 ],
 "metadata": {
  "kernelspec": {
   "display_name": "Python 3",
   "language": "python",
   "name": "python3"
  },
  "language_info": {
   "codemirror_mode": {
    "name": "ipython",
    "version": 3
   },
   "file_extension": ".py",
   "mimetype": "text/x-python",
   "name": "python",
   "nbconvert_exporter": "python",
   "pygments_lexer": "ipython3",
   "version": "3.9.1"
  },
  "toc": {
   "base_numbering": 1,
   "nav_menu": {},
   "number_sections": true,
   "sideBar": true,
   "skip_h1_title": false,
   "title_cell": "Table of Contents",
   "title_sidebar": "Contents",
   "toc_cell": false,
   "toc_position": {},
   "toc_section_display": true,
   "toc_window_display": false
  }
 },
 "nbformat": 4,
 "nbformat_minor": 5
}
